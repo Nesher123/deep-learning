{
 "cells": [
  {
   "cell_type": "markdown",
   "metadata": {},
   "source": [
    "$$\n",
    "\\newcommand{\\mat}[1]{\\boldsymbol {#1}}\n",
    "\\newcommand{\\mattr}[1]{\\boldsymbol {#1}^\\top}\n",
    "\\newcommand{\\matinv}[1]{\\boldsymbol {#1}^{-1}}\n",
    "\\newcommand{\\vec}[1]{\\boldsymbol {#1}}\n",
    "\\newcommand{\\vectr}[1]{\\boldsymbol {#1}^\\top}\n",
    "\\newcommand{\\rvar}[1]{\\mathrm {#1}}\n",
    "\\newcommand{\\rvec}[1]{\\boldsymbol{\\mathrm{#1}}}\n",
    "\\newcommand{\\diag}{\\mathop{\\mathrm {diag}}}\n",
    "\\newcommand{\\set}[1]{\\mathbb {#1}}\n",
    "\\newcommand{\\norm}[1]{\\left\\lVert#1\\right\\rVert}\n",
    "\\newcommand{\\pderiv}[2]{\\frac{\\partial #1}{\\partial #2}}\n",
    "\\newcommand{\\bb}[1]{\\boldsymbol{#1}}\n",
    "$$\n",
    "# Part 1: Sequence Models\n",
    "<a id=part1></a>"
   ]
  },
  {
   "cell_type": "markdown",
   "metadata": {},
   "source": [
    "In this part we will learn about working with text sequences using recurrent neural networks.\n",
    "We'll go from a raw text file all the way to a fully trained GRU-RNN model and generate works of art!"
   ]
  },
  {
   "cell_type": "code",
   "execution_count": 1,
   "metadata": {
    "execution": {
     "iopub.execute_input": "2021-12-27T17:22:25.959958Z",
     "iopub.status.busy": "2021-12-27T17:22:25.958962Z",
     "iopub.status.idle": "2021-12-27T17:22:27.406548Z",
     "shell.execute_reply": "2021-12-27T17:22:27.406548Z"
    },
    "tags": []
   },
   "outputs": [],
   "source": [
    "import unittest\n",
    "import os\n",
    "import sys\n",
    "import pathlib\n",
    "import urllib\n",
    "import shutil\n",
    "import re\n",
    "\n",
    "import numpy as np\n",
    "import torch\n",
    "import matplotlib.pyplot as plt\n",
    "\n",
    "%load_ext autoreload\n",
    "%autoreload 2"
   ]
  },
  {
   "cell_type": "code",
   "execution_count": 2,
   "metadata": {
    "execution": {
     "iopub.execute_input": "2021-12-27T17:22:27.406548Z",
     "iopub.status.busy": "2021-12-27T17:22:27.406548Z",
     "iopub.status.idle": "2021-12-27T17:22:27.469033Z",
     "shell.execute_reply": "2021-12-27T17:22:27.469033Z"
    },
    "tags": []
   },
   "outputs": [
    {
     "name": "stdout",
     "output_type": "stream",
     "text": [
      "Using device: cpu\n"
     ]
    }
   ],
   "source": [
    "test = unittest.TestCase()\n",
    "plt.rcParams.update({'font.size': 12})\n",
    "device = torch.device('cuda' if torch.cuda.is_available() else 'cpu')\n",
    "print('Using device:', device)"
   ]
  },
  {
   "cell_type": "markdown",
   "metadata": {},
   "source": [
    "## Text generation with a char-level RNN\n",
    "<a id=part1_1></a>"
   ]
  },
  {
   "cell_type": "markdown",
   "metadata": {},
   "source": [
    "### Obtaining the corpus\n",
    "<a id=part1_2></a>"
   ]
  },
  {
   "cell_type": "markdown",
   "metadata": {},
   "source": [
    "Let's begin by downloading a corpus containing all the works of William Shakespeare.\n",
    "Since he was very prolific, this corpus is fairly large and will provide us with enough data for\n",
    "obtaining impressive results."
   ]
  },
  {
   "cell_type": "code",
   "execution_count": 3,
   "metadata": {
    "execution": {
     "iopub.execute_input": "2021-12-27T17:22:27.484655Z",
     "iopub.status.busy": "2021-12-27T17:22:27.484655Z",
     "iopub.status.idle": "2021-12-27T17:22:27.547139Z",
     "shell.execute_reply": "2021-12-27T17:22:27.547139Z"
    },
    "tags": []
   },
   "outputs": [
    {
     "name": "stdout",
     "output_type": "stream",
     "text": [
      "Corpus file C:\\Users\\neshe\\.pytorch-datasets\\shakespeare.txt exists, skipping download.\n"
     ]
    }
   ],
   "source": [
    "CORPUS_URL = 'https://github.com/cedricdeboom/character-level-rnn-datasets/raw/master/datasets/shakespeare.txt'\n",
    "DATA_DIR = pathlib.Path.home().joinpath('.pytorch-datasets')\n",
    "\n",
    "def download_corpus(out_path=DATA_DIR, url=CORPUS_URL, force=False):\n",
    "    pathlib.Path(out_path).mkdir(exist_ok=True)\n",
    "    out_filename = os.path.join(out_path, os.path.basename(url))\n",
    "    \n",
    "    if os.path.isfile(out_filename) and not force:\n",
    "        print(f'Corpus file {out_filename} exists, skipping download.')\n",
    "    else:\n",
    "        print(f'Downloading {url}...')\n",
    "        with urllib.request.urlopen(url) as response, open(out_filename, 'wb') as out_file:\n",
    "            shutil.copyfileobj(response, out_file)\n",
    "        print(f'Saved to {out_filename}.')\n",
    "    return out_filename\n",
    "    \n",
    "corpus_path = download_corpus()"
   ]
  },
  {
   "cell_type": "markdown",
   "metadata": {},
   "source": [
    "Load the text into memory and print a snippet:"
   ]
  },
  {
   "cell_type": "code",
   "execution_count": 4,
   "metadata": {
    "execution": {
     "iopub.execute_input": "2021-12-27T17:22:27.547139Z",
     "iopub.status.busy": "2021-12-27T17:22:27.547139Z",
     "iopub.status.idle": "2021-12-27T17:22:27.609625Z",
     "shell.execute_reply": "2021-12-27T17:22:27.609625Z"
    },
    "tags": []
   },
   "outputs": [
    {
     "name": "stdout",
     "output_type": "stream",
     "text": [
      "Corpus length: 6347703 chars\n",
      "ALLS WELL THAT ENDS WELL\n",
      "\n",
      "by William Shakespeare\n",
      "\n",
      "Dramatis Personae\n",
      "\n",
      "  KING OF FRANCE\n",
      "  THE DUKE OF FLORENCE\n",
      "  BERTRAM, Count of Rousillon\n",
      "  LAFEU, an old lord\n",
      "  PAROLLES, a follower of Bertram\n",
      "  TWO FRENCH LORDS, serving with Bertram\n",
      "\n",
      "  STEWARD, Servant to the Countess of Rousillon\n",
      "  LAVACHE, a clown and Servant to the Countess of Rousillon\n",
      "  A PAGE, Servant to the Countess of Rousillon\n",
      "\n",
      "  COUNTESS OF ROUSILLON, mother to Bertram\n",
      "  HELENA, a gentlewoman protected by the Countess\n",
      "  A WIDOW OF FLORENCE.\n",
      "  DIANA, daughter to the Widow\n",
      "\n",
      "  VIOLENTA, neighbour and friend to the Widow\n",
      "  MARIANA, neighbour and friend to the Widow\n",
      "\n",
      "  Lords, Officers, Soldiers, etc., French and Florentine  \n",
      "\n",
      "SCENE:\n",
      "Rousillon; Paris; Florence; Marseilles\n",
      "\n",
      "ACT I. SCENE 1.\n",
      "Rousillon. The COUNT'S palace\n",
      "\n",
      "Enter BERTRAM, the COUNTESS OF ROUSILLON, HELENA, and LAFEU, all in black\n",
      "\n",
      "  COUNTESS. In delivering my son from me, I bury a second husband.\n",
      "  BERTRAM. And I in going, madam, weep o'er my father's death anew;\n",
      "    but I must attend his Majesty's command, to whom I am now in\n",
      "    ward, evermore in subjection.\n",
      "  LAFEU. You shall find of the King a husband, madam; you, sir, a\n",
      "    father. He that so generally is at all times good must of\n",
      "    \n"
     ]
    }
   ],
   "source": [
    "with open(corpus_path, 'r', encoding='utf-8') as f:\n",
    "    corpus = f.read()\n",
    "\n",
    "print(f'Corpus length: {len(corpus)} chars')\n",
    "print(corpus[7:1234])"
   ]
  },
  {
   "cell_type": "markdown",
   "metadata": {},
   "source": [
    "### Data Preprocessing\n",
    "<a id=part1_3></a>"
   ]
  },
  {
   "cell_type": "markdown",
   "metadata": {},
   "source": [
    "The first thing we'll need is to map from each unique character in the corpus to an index that will represent it in our learning process.\n",
    "\n",
    "**TODO**: Implement the `char_maps()` function in the `hw3/charnn.py` module."
   ]
  },
  {
   "cell_type": "code",
   "execution_count": 5,
   "metadata": {
    "execution": {
     "iopub.execute_input": "2021-12-27T17:22:27.609625Z",
     "iopub.status.busy": "2021-12-27T17:22:27.609625Z",
     "iopub.status.idle": "2021-12-27T17:22:27.734595Z",
     "shell.execute_reply": "2021-12-27T17:22:27.734595Z"
    },
    "tags": []
   },
   "outputs": [
    {
     "name": "stdout",
     "output_type": "stream",
     "text": [
      "{'\\n': 0, ' ': 1, '!': 2, '\"': 3, '$': 4, '&': 5, \"'\": 6, '(': 7, ')': 8, ',': 9, '-': 10, '.': 11, '0': 12, '1': 13, '2': 14, '3': 15, '4': 16, '5': 17, '6': 18, '7': 19, '8': 20, '9': 21, ':': 22, ';': 23, '<': 24, '?': 25, 'A': 26, 'B': 27, 'C': 28, 'D': 29, 'E': 30, 'F': 31, 'G': 32, 'H': 33, 'I': 34, 'J': 35, 'K': 36, 'L': 37, 'M': 38, 'N': 39, 'O': 40, 'P': 41, 'Q': 42, 'R': 43, 'S': 44, 'T': 45, 'U': 46, 'V': 47, 'W': 48, 'X': 49, 'Y': 50, 'Z': 51, '[': 52, ']': 53, '_': 54, 'a': 55, 'b': 56, 'c': 57, 'd': 58, 'e': 59, 'f': 60, 'g': 61, 'h': 62, 'i': 63, 'j': 64, 'k': 65, 'l': 66, 'm': 67, 'n': 68, 'o': 69, 'p': 70, 'q': 71, 'r': 72, 's': 73, 't': 74, 'u': 75, 'v': 76, 'w': 77, 'x': 78, 'y': 79, 'z': 80, '}': 81, '\\ufeff': 82}\n"
     ]
    }
   ],
   "source": [
    "import hw3.charnn as charnn\n",
    "\n",
    "char_to_idx, idx_to_char = charnn.char_maps(corpus)\n",
    "print(char_to_idx)\n",
    "\n",
    "test.assertEqual(len(char_to_idx), len(idx_to_char))\n",
    "test.assertSequenceEqual(list(char_to_idx.keys()), list(idx_to_char.values()))\n",
    "test.assertSequenceEqual(list(char_to_idx.values()), list(idx_to_char.keys()))"
   ]
  },
  {
   "cell_type": "markdown",
   "metadata": {},
   "source": [
    "Seems we have some strange characters in the corpus that are very rare and are probably due to mistakes.\n",
    "To reduce the length of each tensor we'll need to later represent our chars, it's best to remove them.\n",
    "\n",
    "**TODO**: Implement the `remove_chars()` function in the `hw3/charnn.py` module."
   ]
  },
  {
   "cell_type": "code",
   "execution_count": 6,
   "metadata": {
    "execution": {
     "iopub.execute_input": "2021-12-27T17:22:27.734595Z",
     "iopub.status.busy": "2021-12-27T17:22:27.734595Z",
     "iopub.status.idle": "2021-12-27T17:22:28.281342Z",
     "shell.execute_reply": "2021-12-27T17:22:28.281342Z"
    },
    "tags": []
   },
   "outputs": [
    {
     "name": "stdout",
     "output_type": "stream",
     "text": [
      "Removed 34 chars\n"
     ]
    }
   ],
   "source": [
    "corpus, n_removed = charnn.remove_chars(corpus, ['}','$','_','<','\\ufeff'])\n",
    "print(f'Removed {n_removed} chars')\n",
    "\n",
    "# After removing the chars, re-create the mappings\n",
    "char_to_idx, idx_to_char = charnn.char_maps(corpus)"
   ]
  },
  {
   "cell_type": "markdown",
   "metadata": {},
   "source": [
    "The next thing we need is an **embedding** of the chracters.\n",
    "An embedding is a representation of each token from the sequence as a tensor.\n",
    "For a char-level RNN, our tokens will be chars and we can thus use the simplest possible embedding: encode each char as a **one-hot** tensor. In other words, each char will be represented\n",
    "as a tensor whos length is the total number of unique chars (`V`) which contains all zeros except at the index\n",
    "corresponding to that specific char.\n",
    "\n",
    "**TODO**: Implement the functions `chars_to_onehot()` and `onehot_to_chars()` in the `hw3/charnn.py` module."
   ]
  },
  {
   "cell_type": "code",
   "execution_count": 7,
   "metadata": {
    "execution": {
     "iopub.execute_input": "2021-12-27T17:22:28.281342Z",
     "iopub.status.busy": "2021-12-27T17:22:28.281342Z",
     "iopub.status.idle": "2021-12-27T17:22:28.359449Z",
     "shell.execute_reply": "2021-12-27T17:22:28.359449Z"
    }
   },
   "outputs": [
    {
     "name": "stdout",
     "output_type": "stream",
     "text": [
      "brine a maiden can season her praise in.\n",
      "   \n",
      "tensor([[0, 0, 0, 0, 0, 0, 0, 0, 0, 0, 0, 0, 0, 0, 0, 0, 0, 0, 0, 0, 0, 0, 0, 0,\n",
      "         0, 0, 0, 0, 0, 0, 0, 0, 0, 0, 0, 0, 0, 0, 0, 0, 0, 0, 0, 0, 0, 0, 0, 0,\n",
      "         0, 0, 0, 0, 0, 1, 0, 0, 0, 0, 0, 0, 0, 0, 0, 0, 0, 0, 0, 0, 0, 0, 0, 0,\n",
      "         0, 0, 0, 0, 0, 0],\n",
      "        [0, 0, 0, 0, 0, 0, 0, 0, 0, 0, 0, 0, 0, 0, 0, 0, 0, 0, 0, 0, 0, 0, 0, 0,\n",
      "         0, 0, 0, 0, 0, 0, 0, 0, 0, 0, 0, 0, 0, 0, 0, 0, 0, 0, 0, 0, 0, 0, 0, 0,\n",
      "         0, 0, 0, 0, 0, 0, 0, 0, 0, 0, 0, 0, 0, 0, 0, 0, 0, 0, 0, 0, 0, 1, 0, 0,\n",
      "         0, 0, 0, 0, 0, 0],\n",
      "        [0, 0, 0, 0, 0, 0, 0, 0, 0, 0, 0, 0, 0, 0, 0, 0, 0, 0, 0, 0, 0, 0, 0, 0,\n",
      "         0, 0, 0, 0, 0, 0, 0, 0, 0, 0, 0, 0, 0, 0, 0, 0, 0, 0, 0, 0, 0, 0, 0, 0,\n",
      "         0, 0, 0, 0, 0, 0, 0, 0, 0, 0, 0, 0, 1, 0, 0, 0, 0, 0, 0, 0, 0, 0, 0, 0,\n",
      "         0, 0, 0, 0, 0, 0]], dtype=torch.int8)\n"
     ]
    },
    {
     "name": "stderr",
     "output_type": "stream",
     "text": [
      "C:\\Users\\neshe\\Desktop\\projects\\deep-learning\\hw3\\hw3\\charnn.py:88: UserWarning: This overload of nonzero is deprecated:\n",
      "\tnonzero()\n",
      "Consider using one of the following signatures instead:\n",
      "\tnonzero(*, bool as_tuple) (Triggered internally at  ..\\torch\\csrc\\utils\\python_arg_parser.cpp:766.)\n",
      "  indices = embedded_text.nonzero()[:, -1].tolist()\n"
     ]
    }
   ],
   "source": [
    "# Wrap the actual embedding functions for calling convenience\n",
    "def embed(text):\n",
    "    return charnn.chars_to_onehot(text, char_to_idx)\n",
    "\n",
    "def unembed(embedding):\n",
    "    return charnn.onehot_to_chars(embedding, idx_to_char)\n",
    "\n",
    "text_snippet = corpus[3104:3148]\n",
    "print(text_snippet)\n",
    "print(embed(text_snippet[0:3]))\n",
    "\n",
    "test.assertEqual(text_snippet, unembed(embed(text_snippet)))\n",
    "test.assertEqual(embed(text_snippet).dtype, torch.int8)"
   ]
  },
  {
   "cell_type": "markdown",
   "metadata": {},
   "source": [
    "### Dataset Creation\n",
    "<a id=part1_4></a>"
   ]
  },
  {
   "cell_type": "markdown",
   "metadata": {},
   "source": [
    "We wish to train our model to generate text by constantly predicting what the next char should be based on the past.\n",
    "To that end we'll need to train our recurrent network in a way similar to a classification task. At each timestep, we input a char and set the expected output (label) to be the next char in the original sequence.\n",
    "\n",
    "We will split our corpus into shorter sequences of length `S` chars (see question below).\n",
    "Each **sample** we provide our model with will therefore be a tensor of shape `(S,V)` where `V` is the embedding dimension. Our model will operate sequentially on each char in the sequence.\n",
    "For each sample, we'll also need a **label**. This is simply another sequence, shifted by one char so that the label of each char is the next char in the corpus."
   ]
  },
  {
   "cell_type": "markdown",
   "metadata": {},
   "source": [
    "**TODO**: Implement the `chars_to_labelled_samples()` function in the `hw3/charnn.py` module."
   ]
  },
  {
   "cell_type": "code",
   "execution_count": 8,
   "metadata": {
    "execution": {
     "iopub.execute_input": "2021-12-27T17:22:28.359449Z",
     "iopub.status.busy": "2021-12-27T17:22:28.359449Z",
     "iopub.status.idle": "2021-12-27T17:23:06.408903Z",
     "shell.execute_reply": "2021-12-27T17:23:06.408903Z"
    },
    "tags": []
   },
   "outputs": [
    {
     "name": "stdout",
     "output_type": "stream",
     "text": [
      "samples shape: torch.Size([99182, 64, 78])\n",
      "labels shape: torch.Size([99182, 64])\n"
     ]
    }
   ],
   "source": [
    "# Create dataset of sequences\n",
    "seq_len = 64\n",
    "vocab_len = len(char_to_idx)\n",
    "\n",
    "# Create labelled samples\n",
    "samples, labels = charnn.chars_to_labelled_samples(corpus, char_to_idx, seq_len, device)\n",
    "print(f'samples shape: {samples.shape}')\n",
    "print(f'labels shape: {labels.shape}')\n",
    "\n",
    "# Test shapes\n",
    "num_samples = (len(corpus) - 1) // seq_len\n",
    "test.assertEqual(samples.shape, (num_samples, seq_len, vocab_len))\n",
    "test.assertEqual(labels.shape, (num_samples, seq_len))\n",
    "\n",
    "# Test content\n",
    "for _ in range(1000):\n",
    "    # random sample\n",
    "    i = np.random.randint(num_samples, size=(1,))[0]\n",
    "    # Compare to corpus\n",
    "    test.assertEqual(unembed(samples[i]), corpus[i*seq_len:(i+1)*seq_len], msg=f\"content mismatch in sample {i}\")\n",
    "    # Compare to labels\n",
    "    sample_text = unembed(samples[i])\n",
    "    label_text = str.join('', [idx_to_char[j.item()] for j in labels[i]])\n",
    "    test.assertEqual(sample_text[1:], label_text[0:-1], msg=f\"label mismatch in sample {i}\")"
   ]
  },
  {
   "cell_type": "markdown",
   "metadata": {},
   "source": [
    "Let's print a few consecutive samples. You should see that the text continues between them."
   ]
  },
  {
   "cell_type": "code",
   "execution_count": 9,
   "metadata": {
    "execution": {
     "iopub.execute_input": "2021-12-27T17:23:06.411896Z",
     "iopub.status.busy": "2021-12-27T17:23:06.410899Z",
     "iopub.status.idle": "2021-12-27T17:23:06.470751Z",
     "shell.execute_reply": "2021-12-27T17:23:06.471747Z"
    },
    "tags": []
   },
   "outputs": [
    {
     "name": "stdout",
     "output_type": "stream",
     "text": [
      "sample [95175]:\n",
      "\to'ergrown lion in a cave, That goes not out to prey. Now, as fon\n",
      "sample [95176]:\n",
      "\td fathers, Having bound up the threatening twigs of birch, Only\n",
      "sample [95177]:\n",
      "\tto stick it in their children's sight For terror, not to use, in\n",
      "sample [95178]:\n",
      "\ttime the rod Becomes more mock'd than fear'd; so our decrees, D\n",
      "sample [95179]:\n",
      "\tead to infliction, to themselves are dead; And liberty plucks ju\n"
     ]
    }
   ],
   "source": [
    "import re\n",
    "import random\n",
    "\n",
    "i = random.randrange(num_samples-5)\n",
    "for i in range(i, i+5):\n",
    "    test.assertEqual(len(samples[i]), seq_len)\n",
    "    s = re.sub(r'\\s+', ' ', unembed(samples[i])).strip()\n",
    "    print(f'sample [{i}]:\\n\\t{s}')"
   ]
  },
  {
   "cell_type": "markdown",
   "metadata": {},
   "source": [
    "As usual, instead of feeding one sample at a time into our model's forward we'll work with **batches** of samples. This means that at every timestep, our model will operate on a batch of chars that are from **different sequences**.\n",
    "Effectively this will allow us to parallelize training our model by dong matrix-matrix multiplications\n",
    "instead of matrix-vector during the forward pass."
   ]
  },
  {
   "cell_type": "markdown",
   "metadata": {},
   "source": [
    "An important nuance is that we need the batches to be **contiguous**, i.e. sample $k$ in batch $j$ should continue sample $k$ from batch $j-1$.\n",
    "The following figure illustrates this:\n",
    "\n",
    "<img src=\"imgs/rnn-batching.png\"/>\n",
    "\n",
    "If we naïvely take consecutive samples into batches, e.g. `[0,1,...,B-1]`, `[B,B+1,...,2B-1]` and so on, we won't have contiguous\n",
    "sequences at the same index between adjacent batches.\n",
    "\n",
    "To accomplish this we need to tell our `DataLoader` which samples to combine together into one batch.\n",
    "We do this by implementing a custom PyTorch `Sampler`, and providing it to our `DataLoader`."
   ]
  },
  {
   "cell_type": "markdown",
   "metadata": {},
   "source": [
    "**TODO**: Implement the `SequenceBatchSampler` class in the `hw3/charnn.py` module."
   ]
  },
  {
   "cell_type": "code",
   "execution_count": 10,
   "metadata": {
    "execution": {
     "iopub.execute_input": "2021-12-27T17:23:06.474567Z",
     "iopub.status.busy": "2021-12-27T17:23:06.474567Z",
     "iopub.status.idle": "2021-12-27T17:23:06.532414Z",
     "shell.execute_reply": "2021-12-27T17:23:06.531418Z"
    },
    "tags": []
   },
   "outputs": [
    {
     "name": "stdout",
     "output_type": "stream",
     "text": [
      "sampler_idx =\n",
      " [0, 1, 2, 3, 4, 5, 6, 7, 8, 9, 10, 11, 12, 13, 14, 15, 16, 17, 18, 19, 20, 21, 22, 23, 24, 25, 26, 27, 28, 29]\n"
     ]
    }
   ],
   "source": [
    "from hw3.charnn import SequenceBatchSampler\n",
    "\n",
    "sampler = SequenceBatchSampler(dataset=range(32), batch_size=10)\n",
    "sampler_idx = list(sampler)\n",
    "print('sampler_idx =\\n', sampler_idx)\n",
    "\n",
    "# Test the Sampler\n",
    "test.assertEqual(len(sampler_idx), 30)\n",
    "batch_idx = np.array(sampler_idx).reshape(-1, 10)\n",
    "for k in range(10):\n",
    "    test.assertEqual(np.diff(batch_idx[:, k], n=2).item(), 0)"
   ]
  },
  {
   "cell_type": "markdown",
   "metadata": {},
   "source": [
    "Even though we're working with sequences, we can still use the standard PyTorch `Dataset`/`DataLoader` combo.\n",
    "For the dataset we can use a built-in class, `TensorDataset` to return tuples of `(sample, label)`\n",
    "from the `samples` and `labels` tensors we created above.\n",
    "The `DataLoader` will be provided with our custom `Sampler` so that it generates appropriate batches."
   ]
  },
  {
   "cell_type": "code",
   "execution_count": 11,
   "metadata": {
    "execution": {
     "iopub.execute_input": "2021-12-27T17:23:06.535407Z",
     "iopub.status.busy": "2021-12-27T17:23:06.535407Z",
     "iopub.status.idle": "2021-12-27T17:23:06.592290Z",
     "shell.execute_reply": "2021-12-27T17:23:06.591262Z"
    },
    "tags": []
   },
   "outputs": [],
   "source": [
    "import torch.utils.data\n",
    "\n",
    "# Create DataLoader returning batches of samples.\n",
    "batch_size = 32\n",
    "\n",
    "ds_corpus = torch.utils.data.TensorDataset(samples, labels)\n",
    "sampler_corpus = SequenceBatchSampler(ds_corpus, batch_size)\n",
    "dl_corpus = torch.utils.data.DataLoader(ds_corpus, batch_size=batch_size, sampler=sampler_corpus, shuffle=False)"
   ]
  },
  {
   "cell_type": "markdown",
   "metadata": {},
   "source": [
    "Let's see what that gives us:"
   ]
  },
  {
   "cell_type": "code",
   "execution_count": 12,
   "metadata": {
    "execution": {
     "iopub.execute_input": "2021-12-27T17:23:06.594554Z",
     "iopub.status.busy": "2021-12-27T17:23:06.594554Z",
     "iopub.status.idle": "2021-12-27T17:23:06.685108Z",
     "shell.execute_reply": "2021-12-27T17:23:06.686083Z"
    },
    "tags": []
   },
   "outputs": [
    {
     "name": "stdout",
     "output_type": "stream",
     "text": [
      "num batches: 3100\n",
      "shape of a batch of samples: torch.Size([32, 64, 78])\n",
      "shape of a batch of labels: torch.Size([32, 64])\n"
     ]
    }
   ],
   "source": [
    "print(f'num batches: {len(dl_corpus)}')\n",
    "\n",
    "x0, y0 = next(iter(dl_corpus))\n",
    "print(f'shape of a batch of samples: {x0.shape}')\n",
    "print(f'shape of a batch of labels: {y0.shape}')"
   ]
  },
  {
   "cell_type": "markdown",
   "metadata": {},
   "source": [
    "Now lets look at the same sample index from multiple batches taken from our corpus."
   ]
  },
  {
   "cell_type": "code",
   "execution_count": 13,
   "metadata": {
    "execution": {
     "iopub.execute_input": "2021-12-27T17:23:06.689076Z",
     "iopub.status.busy": "2021-12-27T17:23:06.689076Z",
     "iopub.status.idle": "2021-12-27T17:23:06.763909Z",
     "shell.execute_reply": "2021-12-27T17:23:06.762912Z"
    },
    "tags": []
   },
   "outputs": [
    {
     "name": "stdout",
     "output_type": "stream",
     "text": [
      "=== batch 0, sample 11 (torch.Size([64, 78])): ===\n",
      "\tRousillon; Paris; Florence; Marseilles ACT I. SCENE 1. Rousill\n",
      "=== batch 1, sample 11 (torch.Size([64, 78])): ===\n",
      "\tich makes fair gifts fairer; for where an unclean mind carri\n",
      "=== batch 2, sample 11 (torch.Size([64, 78])): ===\n",
      "\tace his remembrance more Than those I shed for him. What was\n",
      "=== batch 3, sample 11 (torch.Size([64, 78])): ===\n",
      "\tyourselves made, you lose your city. It is not politic in t\n",
      "=== batch 4, sample 11 (torch.Size([64, 78])): ===\n",
      "\ting with it? HELENA. Not my virginity yet. There shall you\n"
     ]
    }
   ],
   "source": [
    "# Check that sentences in the same index of different batches complete each other.\n",
    "k = random.randrange(batch_size)\n",
    "for j, (X, y) in enumerate(dl_corpus,):\n",
    "    print(f'=== batch {j}, sample {k} ({X[k].shape}): ===')\n",
    "    s = re.sub(r'\\s+', ' ', unembed(X[k])).strip()\n",
    "    print(f'\\t{s}')\n",
    "    if j==4: break"
   ]
  },
  {
   "cell_type": "markdown",
   "metadata": {},
   "source": [
    "### Model Implementation\n",
    "<a id=part1_5></a>"
   ]
  },
  {
   "cell_type": "markdown",
   "metadata": {},
   "source": [
    "Finally, our data set is ready so we can focus on our model.\n",
    "\n",
    "We'll implement here is a multilayer gated recurrent unit (GRU) model, with dropout.\n",
    "This model is a type of RNN which performs similar to the well-known LSTM model,\n",
    "but it's somewhat easier to train because it has less parameters.\n",
    "We'll modify the regular GRU slightly by applying dropout to\n",
    "the hidden states passed between layers of the model.\n",
    "\n",
    "The model accepts an input $\\mat{X}\\in\\set{R}^{S\\times V}$ containing a sequence of embedded chars.\n",
    "It returns an output $\\mat{Y}\\in\\set{R}^{S\\times V}$ of predictions for the next char and the final hidden state\n",
    "$\\mat{H}\\in\\set{R}^{L\\times H}$. Here $S$ is the sequence length, $V$ is the vocabulary size (number of unique chars), $L$ is the number of layers in the model and $H$ is the hidden dimension."
   ]
  },
  {
   "cell_type": "markdown",
   "metadata": {},
   "source": [
    "Mathematically, the model's forward function at layer $k\\in[1,L]$ and timestep $t\\in[1,S]$ can be described as\n",
    "\n",
    "$$\n",
    "\\begin{align}\n",
    "\\vec{z_t}^{[k]} &= \\sigma\\left(\\vec{x}^{[k]}_t {\\mattr{W}_{\\mathrm{xz}}}^{[k]} +\n",
    "    \\vec{h}_{t-1}^{[k]} {\\mattr{W}_{\\mathrm{hz}}}^{[k]} + \\vec{b}_{\\mathrm{z}}^{[k]}\\right) \\\\\n",
    "\\vec{r_t}^{[k]} &= \\sigma\\left(\\vec{x}^{[k]}_t {\\mattr{W}_{\\mathrm{xr}}}^{[k]} +\n",
    "    \\vec{h}_{t-1}^{[k]} {\\mattr{W}_{\\mathrm{hr}}}^{[k]} + \\vec{b}_{\\mathrm{r}}^{[k]}\\right) \\\\\n",
    "\\vec{g_t}^{[k]} &= \\tanh\\left(\\vec{x}^{[k]}_t {\\mattr{W}_{\\mathrm{xg}}}^{[k]} +\n",
    "    (\\vec{r_t}^{[k]}\\odot\\vec{h}_{t-1}^{[k]}) {\\mattr{W}_{\\mathrm{hg}}}^{[k]} + \\vec{b}_{\\mathrm{g}}^{[k]}\\right) \\\\\n",
    "\\vec{h_t}^{[k]} &= \\vec{z}^{[k]}_t \\odot \\vec{h}^{[k]}_{t-1} + \\left(1-\\vec{z}^{[k]}_t\\right)\\odot \\vec{g_t}^{[k]}\n",
    "\\end{align}\n",
    "$$"
   ]
  },
  {
   "cell_type": "markdown",
   "metadata": {},
   "source": [
    "The input to each layer is,\n",
    "$$\n",
    "\\mat{X}^{[k]} =\n",
    "\\begin{bmatrix}\n",
    "    {\\vec{x}_1}^{[k]} \\\\ \\vdots \\\\ {\\vec{x}_S}^{[k]}\n",
    "\\end{bmatrix} \n",
    "=\n",
    "\\begin{cases}\n",
    "    \\mat{X} & \\mathrm{if} ~k = 1~ \\\\\n",
    "    \\mathrm{dropout}_p \\left(\n",
    "    \\begin{bmatrix}\n",
    "        {\\vec{h}_1}^{[k-1]} \\\\ \\vdots \\\\ {\\vec{h}_S}^{[k-1]}\n",
    "    \\end{bmatrix} \\right) & \\mathrm{if} ~1 < k \\leq L+1~\n",
    "\\end{cases}.\n",
    "$$"
   ]
  },
  {
   "cell_type": "markdown",
   "metadata": {},
   "source": [
    "The output of the entire model is then,\n",
    "$$\n",
    "\\mat{Y} = \\mat{X}^{[L+1]} {\\mattr{W}_{\\mathrm{hy}}} + \\mat{B}_{\\mathrm{y}}\n",
    "$$"
   ]
  },
  {
   "cell_type": "markdown",
   "metadata": {},
   "source": [
    "and the final hidden state is\n",
    "$$\n",
    "\\mat{H} = \n",
    "\\begin{bmatrix}\n",
    "    {\\vec{h}_S}^{[1]} \\\\ \\vdots \\\\ {\\vec{h}_S}^{[L]}\n",
    "\\end{bmatrix}.\n",
    "$$"
   ]
  },
  {
   "cell_type": "markdown",
   "metadata": {},
   "source": [
    "Notes:\n",
    "- $t\\in[1,S]$ is the timestep, i.e. the current position within the sequence of each sample.\n",
    "- $\\vec{x}_t^{[k]}$ is the input of layer $k$ at timestep $t$, respectively.\n",
    "- The outputs of the **last layer** $\\vec{y}_t^{[L]}$, are the predicted next characters for every input char.\n",
    "  These are similar to class scores in classification tasks.\n",
    "- The hidden states at the **last timestep**, $\\vec{h}_S^{[k]}$, are the final hidden state returned from the model.\n",
    "- $\\sigma(\\cdot)$ is the sigmoid function, i.e. $\\sigma(\\vec{z}) = 1/(1+e^{-\\vec{z}})$ which returns values in $(0,1)$.\n",
    "- $\\tanh(\\cdot)$ is the hyperbolic tangent, i.e. $\\tanh(\\vec{z}) = (e^{2\\vec{z}}-1)/(e^{2\\vec{z}}+1)$ which returns values in $(-1,1)$.\n",
    "- $\\vec{h_t}^{[k]}$ is the hidden state of layer $k$ at time $t$. This can be thought of as the memory of that layer.\n",
    "- $\\vec{g_t}^{[k]}$ is the candidate hidden state for time $t+1$.\n",
    "- $\\vec{z_t}^{[k]}$ is known as the update gate. It combines the previous state with the input to determine how much the current state will be combined with the new candidate state. For example, if $\\vec{z_t}^{[k]}=\\vec{1}$ then the current input has no effect on the output.\n",
    "- $\\vec{r_t}^{[k]}$ is known as the reset gate. It combines the previous state with the input to determine how much of the previous state will affect the current state candidate. For example if $\\vec{r_t}^{[k]}=\\vec{0}$ the previous state has no effect on the current candidate state."
   ]
  },
  {
   "cell_type": "markdown",
   "metadata": {},
   "source": [
    "Here's a graphical representation of the GRU's forward pass at each timestep. The $\\vec{\\tilde{h}}$ in the image is our $\\vec{g}$ (candidate next state).\n",
    "\n",
    "<img src=\"imgs/gru_cell.png\" width=\"400\"/>\n",
    "\n",
    "You can see how the reset and update gates allow the model to completely ignore it's previous state, completely ignore it's input, or any mixture of those states (since the gates are actually continuous and between $(0,1)$)."
   ]
  },
  {
   "cell_type": "markdown",
   "metadata": {},
   "source": [
    "Here's a graphical representation of the entire model.\n",
    "You can ignore the $c_t^{[k]}$ (cell state) variables (which are relevant for LSTM models).\n",
    "Our model has only the hidden state, $h_t^{[k]}$. Also notice that we added dropout between layers (i.e., on the up arrows).\n",
    "\n",
    "<img src=\"imgs/lstm_model.png\" />\n",
    "\n",
    "The purple tensors are inputs (a sequence and initial hidden state per layer), and the green tensors are outputs (another sequence and final hidden state per layer). Each blue block implements the above forward equations.\n",
    "Blocks that are on the same vertical level are at the same layer, and therefore share parameters."
   ]
  },
  {
   "cell_type": "markdown",
   "metadata": {},
   "source": [
    "**TODO**: Implement the `MultilayerGRU` class in the `hw3/charnn.py` module.\n",
    "\n",
    "Notes:\n",
    "- You'll need to handle input **batches** now.\n",
    "  The math is identical to the above, but all the tensors will have an extra batch\n",
    "  dimension as their first dimension.\n",
    "- Use the diagram above to help guide your implementation.\n",
    "  It will help you visualize what shapes to returns where, etc.\n"
   ]
  },
  {
   "cell_type": "code",
   "execution_count": 14,
   "metadata": {
    "execution": {
     "iopub.execute_input": "2021-12-27T17:23:06.767899Z",
     "iopub.status.busy": "2021-12-27T17:23:06.767899Z",
     "iopub.status.idle": "2021-12-27T17:23:07.011382Z",
     "shell.execute_reply": "2021-12-27T17:23:07.012140Z"
    }
   },
   "outputs": [
    {
     "name": "stdout",
     "output_type": "stream",
     "text": [
      "MultilayerGRU(\n",
      "  (Layer_0: W_hidden_x): Linear(in_features=78, out_features=256, bias=False)\n",
      "  (Layer_0: W_hidden_h): Linear(in_features=256, out_features=256, bias=True)\n",
      "  (Layer_0: W_update_x): Linear(in_features=78, out_features=256, bias=False)\n",
      "  (Layer_0: W_update_h): Linear(in_features=256, out_features=256, bias=True)\n",
      "  (Layer_0: W_reset_x): Linear(in_features=78, out_features=256, bias=False)\n",
      "  (Layer_0: U_reset_h): Linear(in_features=256, out_features=256, bias=True)\n",
      "  (Dropout_0): Dropout(p=0, inplace=False)\n",
      "  (Layer_1: W_hidden_x): Linear(in_features=256, out_features=256, bias=False)\n",
      "  (Layer_1: W_hidden_h): Linear(in_features=256, out_features=256, bias=True)\n",
      "  (Layer_1: W_update_x): Linear(in_features=256, out_features=256, bias=False)\n",
      "  (Layer_1: W_update_h): Linear(in_features=256, out_features=256, bias=True)\n",
      "  (Layer_1: W_reset_x): Linear(in_features=256, out_features=256, bias=False)\n",
      "  (Layer_1: U_reset_h): Linear(in_features=256, out_features=256, bias=True)\n",
      "  (Dropout_1): Dropout(p=0, inplace=False)\n",
      "  (Layer_2: W_hidden_x): Linear(in_features=256, out_features=256, bias=False)\n",
      "  (Layer_2: W_hidden_h): Linear(in_features=256, out_features=256, bias=True)\n",
      "  (Layer_2: W_update_x): Linear(in_features=256, out_features=256, bias=False)\n",
      "  (Layer_2: W_update_h): Linear(in_features=256, out_features=256, bias=True)\n",
      "  (Layer_2: W_reset_x): Linear(in_features=256, out_features=256, bias=False)\n",
      "  (Layer_2: U_reset_h): Linear(in_features=256, out_features=256, bias=True)\n",
      "  (Dropout_2): Dropout(p=0, inplace=False)\n",
      "  (W_y): Linear(in_features=256, out_features=78, bias=True)\n",
      ")\n",
      "y.shape=torch.Size([32, 64, 78])\n",
      "h.shape=torch.Size([32, 3, 256])\n"
     ]
    }
   ],
   "source": [
    "in_dim = vocab_len\n",
    "h_dim = 256\n",
    "n_layers = 3\n",
    "model = charnn.MultilayerGRU(in_dim, h_dim, out_dim=in_dim, n_layers=n_layers)\n",
    "model = model.to(device)\n",
    "print(model)\n",
    "\n",
    "# Test forward pass\n",
    "y, h = model(x0.to(dtype=torch.float, device=device))\n",
    "print(f'y.shape={y.shape}')\n",
    "print(f'h.shape={h.shape}')\n",
    "\n",
    "test.assertEqual(y.shape, (batch_size, seq_len, vocab_len))\n",
    "test.assertEqual(h.shape, (batch_size, n_layers, h_dim))\n",
    "test.assertEqual(len(list(model.parameters())), 9 * n_layers + 2) "
   ]
  },
  {
   "cell_type": "markdown",
   "metadata": {},
   "source": [
    "### Generating text by sampling\n",
    "<a id=part1_6></a>"
   ]
  },
  {
   "cell_type": "markdown",
   "metadata": {},
   "source": [
    "Now that we have a model, we can implement **text generation** based on it.\n",
    "The idea is simple:\n",
    "At each timestep our model receives one char $x_t$ from the input sequence and outputs scores $y_t$\n",
    "for what the next char should be.\n",
    "We'll convert these scores into a probability over each of the possible chars.\n",
    "In other words, for each input char $x_t$ we create a probability distribution for the next char\n",
    "conditioned on the current one and the state of the model (representing all previous inputs):\n",
    "$$p(x_{t+1}|x_t, \\vec{h}_t).$$\n",
    "\n",
    "Once we have such a distribution, we'll sample a char from it.\n",
    "This will be the first char of our generated sequence.\n",
    "Now we can feed this new char into the model, create another distribution, sample the next char and so on.\n",
    "Note that it's crucial to propagate the hidden state when sampling."
   ]
  },
  {
   "cell_type": "markdown",
   "metadata": {},
   "source": [
    "The important point however is how to create the distribution from the scores.\n",
    "One way, as we saw in previous ML tasks, is to use the softmax function.\n",
    "However, a drawback of softmax is that it can generate very diffuse (more uniform) distributions if the score values are very similar. When sampling, we would prefer to control the distributions and make them less uniform to increase the chance of sampling the char(s) with the highest scores compared to the others.\n",
    "\n",
    "To control the variance of the distribution, a common trick is to add a hyperparameter $T$, known as the \n",
    "*temperature* to the softmax function. The class scores are simply scaled by $T$ before softmax is applied:\n",
    "$$\n",
    "\\mathrm{softmax}_T(\\vec{y}) = \\frac{e^{\\vec{y}/T}}{\\sum_k e^{y_k/T}}\n",
    "$$\n",
    "\n",
    "A low $T$ will result in less uniform distributions and vice-versa."
   ]
  },
  {
   "cell_type": "markdown",
   "metadata": {},
   "source": [
    "**TODO**: Implement the `hot_softmax()` function in the `hw3/charnn.py` module."
   ]
  },
  {
   "cell_type": "code",
   "execution_count": 15,
   "metadata": {
    "execution": {
     "iopub.execute_input": "2021-12-27T17:23:07.016369Z",
     "iopub.status.busy": "2021-12-27T17:23:07.015372Z",
     "iopub.status.idle": "2021-12-27T17:23:07.523426Z",
     "shell.execute_reply": "2021-12-27T17:23:07.523426Z"
    }
   },
   "outputs": [
    {
     "data": {
      "image/png": "[encoded data removed]",
      "text/plain": [
       "<Figure size 1080x360 with 1 Axes>"
      ]
     },
     "metadata": {
      "needs_background": "light"
     },
     "output_type": "display_data"
    }
   ],
   "source": [
    "scores = y[0,0,:].detach()\n",
    "_, ax = plt.subplots(figsize=(15,5))\n",
    "\n",
    "for t in reversed([0.3, 0.5, 1.0, 100]):\n",
    "    ax.plot(charnn.hot_softmax(scores, temperature=t).cpu().numpy(), label=f'T={t}')\n",
    "ax.set_xlabel('$x_{t+1}$')\n",
    "ax.set_ylabel('$p(x_{t+1}|x_t)$')\n",
    "ax.legend()\n",
    "\n",
    "uniform_proba = 1/len(char_to_idx)\n",
    "uniform_diff = torch.abs(charnn.hot_softmax(scores, temperature=100) - uniform_proba)\n",
    "test.assertTrue(torch.all(uniform_diff < 1e-4))"
   ]
  },
  {
   "cell_type": "markdown",
   "metadata": {},
   "source": [
    "**TODO**: Implement the `generate_from_model()` function in the `hw3/charnn.py` module."
   ]
  },
  {
   "cell_type": "code",
   "execution_count": 16,
   "metadata": {
    "execution": {
     "iopub.execute_input": "2021-12-27T17:23:07.526419Z",
     "iopub.status.busy": "2021-12-27T17:23:07.526419Z",
     "iopub.status.idle": "2021-12-27T17:23:07.727879Z",
     "shell.execute_reply": "2021-12-27T17:23:07.727879Z"
    }
   },
   "outputs": [
    {
     "name": "stdout",
     "output_type": "stream",
     "text": [
      "foobar'1vTYt)zYSLorMrJhPopAi7iFQs:iUXD!YXGRQL(R]Tv\n",
      "foobar97k;GZZ:],aX4!ueYmw6I(b0Tww6wVF.];enCtX[;eY,\n",
      "foobarDsH?Ut28Q22kLJv?e!0A0?Eo]1EJ9D0WKWG)iBGdIRch\n"
     ]
    }
   ],
   "source": [
    "for _ in range(3):\n",
    "    text = charnn.generate_from_model(model, \"foobar\", 50, (char_to_idx, idx_to_char), T=0.5)\n",
    "    print(text)\n",
    "    test.assertEqual(len(text), 50)"
   ]
  },
  {
   "cell_type": "markdown",
   "metadata": {},
   "source": [
    "### Training\n",
    "<a id=part1_7></a>"
   ]
  },
  {
   "cell_type": "markdown",
   "metadata": {},
   "source": [
    "To train this model, we'll calculate the loss at each time step by comparing the predicted char to\n",
    "the actual char from our label. We can use cross entropy since per char it's similar to a classification problem.\n",
    "We'll then sum the losses over the sequence and back-propagate the gradients though time.\n",
    "Notice that the back-propagation algorithm will \"visit\" each layer's parameter tensors multiple times,\n",
    "so we'll accumulate gradients in parameters of the blocks. Luckily `autograd` will handle this part for us."
   ]
  },
  {
   "cell_type": "markdown",
   "metadata": {},
   "source": [
    "As usual, the first step of training will be to try and **overfit** a large model (many parameters) to a tiny dataset.\n",
    "Again, this is to ensure the model and training code are implemented correctly, i.e. that the model can learn.\n",
    "\n",
    "For a generative model such as this, overfitting is slightly trickier than for classification.\n",
    "What we'll aim to do is to get our model to **memorize** a specific sequence of chars, so that when given the first\n",
    "char in the sequence it will immediately spit out the rest of the sequence verbatim.\n",
    "\n",
    "Let's create a tiny dataset to memorize."
   ]
  },
  {
   "cell_type": "code",
   "execution_count": 17,
   "metadata": {
    "execution": {
     "iopub.execute_input": "2021-12-27T17:23:07.731868Z",
     "iopub.status.busy": "2021-12-27T17:23:07.731868Z",
     "iopub.status.idle": "2021-12-27T17:23:07.788716Z",
     "shell.execute_reply": "2021-12-27T17:23:07.788716Z"
    }
   },
   "outputs": [
    {
     "name": "stdout",
     "output_type": "stream",
     "text": [
      "Text to \"memorize\":\n",
      "\n",
      "TRAM. What would you have?\n",
      "  HELENA. Something; and scarce so much; nothing, indeed.\n",
      "    I would not tell you what I would, my lord.\n",
      "    Faith, yes:\n",
      "    Strangers and foes do sunder and not kiss.\n",
      "  BERTRAM. I pray you, stay not, but in haste to horse.\n",
      "  HE\n"
     ]
    }
   ],
   "source": [
    "# Pick a tiny subset of the dataset\n",
    "subset_start, subset_end = 1001, 1005\n",
    "ds_corpus_ss = torch.utils.data.Subset(ds_corpus, range(subset_start, subset_end))\n",
    "batch_size_ss = 1\n",
    "sampler_ss = SequenceBatchSampler(ds_corpus_ss, batch_size=batch_size_ss)\n",
    "dl_corpus_ss = torch.utils.data.DataLoader(ds_corpus_ss, batch_size_ss, sampler=sampler_ss, shuffle=False)\n",
    "\n",
    "# Convert subset to text\n",
    "subset_text = ''\n",
    "for i in range(subset_end - subset_start):\n",
    "    subset_text += unembed(ds_corpus_ss[i][0])\n",
    "print(f'Text to \"memorize\":\\n\\n{subset_text}')"
   ]
  },
  {
   "cell_type": "markdown",
   "metadata": {},
   "source": [
    "Now let's implement the first part of our training code.\n",
    "\n",
    "**TODO**: Implement the `train_epoch()` and `train_batch()` methods of the `RNNTrainer` class in the `hw3/training.py` module. \n",
    "You must think about how to correctly handle the hidden state of the model between batches and epochs for this specific task (i.e. text generation)."
   ]
  },
  {
   "cell_type": "code",
   "execution_count": 18,
   "metadata": {
    "execution": {
     "iopub.execute_input": "2021-12-27T17:23:07.794701Z",
     "iopub.status.busy": "2021-12-27T17:23:07.793703Z",
     "iopub.status.idle": "2021-12-27T17:24:05.461198Z",
     "shell.execute_reply": "2021-12-27T17:24:05.461198Z"
    }
   },
   "outputs": [
    {
     "name": "stdout",
     "output_type": "stream",
     "text": [
      "\n",
      "Epoch #1: Avg. loss = 3.966, Accuracy = 17.58%\n",
      "TtGy enno n a suseu-BoWoeoLhnotihanns oessoR odwoo\n",
      "uattsood   eo dn dtsoweeswtdsyoa,bteastsseWe aosgso rnt s e ahvwasdost.lsnn sthAohsedt tNooaaoo,d\n",
      " tnyo t,hosteEduMoso toe  s\n",
      "ltoo  not7 eWoeaoSgk o snonoeaoosn.hseo to\n",
      "aI ut unton otnaaoseooRnus  sotatt n\n",
      "\n",
      "Epoch #25: Avg. loss = 0.935, Accuracy = 76.56%\n",
      "TW.\n",
      "    I woustan; Sttay HEELATr.\n",
      "  HELuhssan rathathan;By; ter your, yey not youeelssAy Eot I hot tehay you; yole seTMThE sulglc bELEcasyou  Fca te mund sopr.\n",
      "  HELERTRAM. yor ha co sol, yourh. te wouthat k, ing, inde sfo srhint t.   botsto,ssbERRAAat in:\n",
      "\n",
      "Epoch #50: Avg. loss = 0.024, Accuracy = 100.00%\n",
      "TRAM. What would you have?\n",
      "  HELENA. Someteunde:e  Eot kism.erangers and foes do sunde  and foes do sunder and not kildeemfo s do sunder and not kiss.\n",
      "  BERTRAM. I pray you, stay not, but in hssA. Sose.\n",
      "  HELERAce mors.\n",
      "    Strangers and foes do sunder and\n",
      "\n",
      "Epoch #75: Avg. loss = 0.007, Accuracy = 100.00%\n",
      "TRAM. What would you have?\n",
      "  HELENA. Something; and scarce so much; nothing, indeed.\n",
      "    I would you hat I would, my lord.\n",
      "    Faith, yes:\n",
      "    Strangers and foes do sunder and not kiss.\n",
      "  BERTRAM. I pray you, stay not, but in haste to horse.\n",
      "  HELENA. Some\n",
      "\n",
      "Epoch #100: Avg. loss = 0.004, Accuracy = 100.00%\n",
      "TRAM. What would you have?\n",
      "  HELENA. Something; and scarce so much; nothing, indeed.\n",
      "    I would not tell you what I would, my lord.\n",
      "    Faith, yed\n",
      "    Strangers and foes do sunder and not kiss.\n",
      "  BERTRAM. I pray you, stay not, but in haste to horse.\n",
      "  HEL\n",
      "\n",
      "Epoch #125: Avg. loss = 0.003, Accuracy = 100.00%\n",
      "TRAM. What would you have?\n",
      "  HELENA. Something2 aiteerand scarce so much; nothing, indeed.\n",
      "    I would not tell you what I would, my lord.\n",
      "    Faith, yes:\n",
      "    Strangers and foes do sunder and not kiss.\n",
      "  BERTRAM. I pray you, stay not, but in haste to horse\n",
      "\n",
      "Epoch #150: Avg. loss = 0.002, Accuracy = 100.00%\n",
      "TRAM. What would you have?\n",
      "  HELENA. Something; and scarce so much; nothing, indeed.\n",
      "    I would not tell you what I would, my lord.\n",
      "    Faith, yes:\n",
      "    Strangers and foes do sunder and not kiss.\n",
      "  BERTRAM. I pray you, stay not, but in haste to horse.\n",
      "  HE\n"
     ]
    }
   ],
   "source": [
    "import torch.nn as nn\n",
    "import torch.optim as optim\n",
    "from hw3.training import RNNTrainer\n",
    "\n",
    "torch.manual_seed(42)\n",
    "\n",
    "lr = 0.01\n",
    "num_epochs = 500\n",
    "\n",
    "in_dim = vocab_len\n",
    "h_dim = 128\n",
    "n_layers = 2\n",
    "loss_fn = nn.CrossEntropyLoss()\n",
    "model = charnn.MultilayerGRU(in_dim, h_dim, out_dim=in_dim, n_layers=n_layers).to(device)\n",
    "optimizer = optim.Adam(model.parameters(), lr=lr)\n",
    "trainer = RNNTrainer(model, loss_fn, optimizer, device)\n",
    "\n",
    "for epoch in range(num_epochs):\n",
    "    epoch_result = trainer.train_epoch(dl_corpus_ss, verbose=False)\n",
    "    \n",
    "    # Every X epochs, we'll generate a sequence starting from the first char in the first sequence\n",
    "    # to visualize how/if/what the model is learning.\n",
    "    if epoch == 0 or (epoch+1) % 25 == 0:\n",
    "        avg_loss = np.mean(epoch_result.losses)\n",
    "        accuracy = np.mean(epoch_result.accuracy)\n",
    "        print(f'\\nEpoch #{epoch+1}: Avg. loss = {avg_loss:.3f}, Accuracy = {accuracy:.2f}%')\n",
    "        \n",
    "        generated_sequence = charnn.generate_from_model(model, subset_text[0],\n",
    "                                                        seq_len*(subset_end-subset_start),\n",
    "                                                        (char_to_idx,idx_to_char), T=0.1)\n",
    "        \n",
    "        # Stop if we've successfully memorized the small dataset.\n",
    "        print(generated_sequence)\n",
    "        if generated_sequence == subset_text:\n",
    "            break\n",
    "\n",
    "# Test successful overfitting\n",
    "test.assertGreater(epoch_result.accuracy, 99)\n",
    "test.assertEqual(generated_sequence, subset_text)"
   ]
  },
  {
   "cell_type": "markdown",
   "metadata": {},
   "source": [
    "OK, so training works - we can memorize a short sequence.\n",
    "We'll now train a much larger model on our large dataset. You'll need a GPU for this part.\n",
    "\n",
    "First, lets set up our dataset and models for training.\n",
    "We'll split our corpus into 90% train and 10% test-set.\n",
    "Also, we'll use a learning-rate scheduler to control the learning rate during training."
   ]
  },
  {
   "cell_type": "markdown",
   "metadata": {},
   "source": [
    "**TODO**: Set the hyperparameters in the `part1_rnn_hyperparams()` function of the `hw3/answers.py` module."
   ]
  },
  {
   "cell_type": "code",
   "execution_count": 19,
   "metadata": {
    "execution": {
     "iopub.execute_input": "2021-12-27T17:24:05.461198Z",
     "iopub.status.busy": "2021-12-27T17:24:05.461198Z",
     "iopub.status.idle": "2021-12-27T17:24:42.814349Z",
     "shell.execute_reply": "2021-12-27T17:24:42.814349Z"
    }
   },
   "outputs": [
    {
     "name": "stdout",
     "output_type": "stream",
     "text": [
      "hyperparams:\n",
      " {'batch_size': 256, 'seq_len': 64, 'h_dim': 128, 'n_layers': 3, 'dropout': 0.3, 'learn_rate': 0.01, 'lr_sched_factor': 0.5, 'lr_sched_patience': 2}\n",
      "Train: 348 batches, 5701632 chars\n",
      "Test:   38 batches,  622592 chars\n"
     ]
    }
   ],
   "source": [
    "from hw3.answers import part1_rnn_hyperparams\n",
    "\n",
    "hp = part1_rnn_hyperparams()\n",
    "print('hyperparams:\\n', hp)\n",
    "\n",
    "### Dataset definition\n",
    "vocab_len = len(char_to_idx)\n",
    "batch_size = hp['batch_size']\n",
    "seq_len = hp['seq_len']\n",
    "train_test_ratio = 0.9\n",
    "num_samples = (len(corpus) - 1) // seq_len\n",
    "num_train = int(train_test_ratio * num_samples)\n",
    "\n",
    "samples, labels = charnn.chars_to_labelled_samples(corpus, char_to_idx, seq_len, device)\n",
    "\n",
    "ds_train = torch.utils.data.TensorDataset(samples[:num_train], labels[:num_train])\n",
    "sampler_train = SequenceBatchSampler(ds_train, batch_size)\n",
    "dl_train = torch.utils.data.DataLoader(ds_train, batch_size, shuffle=False, sampler=sampler_train, drop_last=True)\n",
    "\n",
    "ds_test = torch.utils.data.TensorDataset(samples[num_train:], labels[num_train:])\n",
    "sampler_test = SequenceBatchSampler(ds_test, batch_size)\n",
    "dl_test = torch.utils.data.DataLoader(ds_test, batch_size, shuffle=False, sampler=sampler_test, drop_last=True)\n",
    "\n",
    "print(f'Train: {len(dl_train):3d} batches, {len(dl_train)*batch_size*seq_len:7d} chars')\n",
    "print(f'Test:  {len(dl_test):3d} batches, {len(dl_test)*batch_size*seq_len:7d} chars')\n",
    "\n",
    "### Training definition\n",
    "in_dim = out_dim = vocab_len\n",
    "checkpoint_file = 'checkpoints/rnn'\n",
    "num_epochs = 50\n",
    "early_stopping = 5\n",
    "\n",
    "model = charnn.MultilayerGRU(in_dim, hp['h_dim'], out_dim, hp['n_layers'], hp['dropout'])\n",
    "loss_fn = nn.CrossEntropyLoss()\n",
    "optimizer = optim.Adam(model.parameters(), lr=hp['learn_rate'])\n",
    "scheduler = optim.lr_scheduler.ReduceLROnPlateau(\n",
    "    optimizer, mode='max', factor=hp['lr_sched_factor'], patience=hp['lr_sched_patience'], verbose=True\n",
    ")\n",
    "trainer = RNNTrainer(model, loss_fn, optimizer, device)"
   ]
  },
  {
   "cell_type": "markdown",
   "metadata": {},
   "source": [
    "The code blocks below will train the model and save checkpoints containing the training state and the best model parameters to a file. This allows you to stop training and resume it later from where you left.\n",
    "\n",
    "Note that you can use the `main.py` script provided within the assignment folder to run this notebook from the command line as if it were a python script by using the `run-nb` subcommand. This allows you to train your model using this notebook without starting jupyter. You can combine this with `srun` or `sbatch` to run the notebook with a GPU on the course servers."
   ]
  },
  {
   "cell_type": "markdown",
   "metadata": {},
   "source": [
    "**TODO**:\n",
    "- Implement the `fit()` method of the `Trainer` class. You can reuse the relevant implementation parts from HW2, but make sure to implement early stopping and checkpoints.\n",
    "- Implement the `test_epoch()` and `test_batch()` methods of the `RNNTrainer` class in the `hw3/training.py` module.\n",
    "- Run the following block to train.\n",
    "- When training is done and you're satisfied with the model's outputs, rename the checkpoint file to `checkpoints/rnn_final.pt`.\n",
    "  This will cause the block to skip training and instead load your saved model when running the homework submission script.\n",
    "  Note that your submission zip file will not include the checkpoint file. This is OK."
   ]
  },
  {
   "cell_type": "code",
   "execution_count": 20,
   "metadata": {
    "execution": {
     "iopub.execute_input": "2021-12-27T17:24:42.814349Z",
     "iopub.status.busy": "2021-12-27T17:24:42.814349Z",
     "iopub.status.idle": "2021-12-27T17:24:42.892456Z",
     "shell.execute_reply": "2021-12-27T17:24:42.892456Z"
    }
   },
   "outputs": [
    {
     "name": "stdout",
     "output_type": "stream",
     "text": [
      "*** Loading final checkpoint file checkpoints/rnn_final.pt instead of training\n"
     ]
    }
   ],
   "source": [
    "from cs3600.plot import plot_fit\n",
    "\n",
    "def post_epoch_fn(epoch, train_res, test_res, verbose):\n",
    "    # Update learning rate\n",
    "    scheduler.step(test_res.accuracy)\n",
    "    # Sample from model to show progress\n",
    "    if verbose:\n",
    "        start_seq = \"ACT I.\"\n",
    "        generated_sequence = charnn.generate_from_model(\n",
    "            model, start_seq, 100, (char_to_idx,idx_to_char), T=0.5\n",
    "        )\n",
    "        print(generated_sequence)\n",
    "\n",
    "# Train, unless final checkpoint is found\n",
    "checkpoint_file_final = f'{checkpoint_file}_final.pt'\n",
    "if os.path.isfile(checkpoint_file_final):\n",
    "    print(f'*** Loading final checkpoint file {checkpoint_file_final} instead of training')\n",
    "    saved_state = torch.load(checkpoint_file_final, map_location=device)\n",
    "    model.load_state_dict(saved_state['model_state'])\n",
    "else:\n",
    "    try:\n",
    "        # Print pre-training sampling\n",
    "        print(charnn.generate_from_model(model, \"ACT I.\", 100, (char_to_idx,idx_to_char), T=0.5))\n",
    "\n",
    "        fit_res = trainer.fit(dl_train, dl_test, num_epochs, max_batches=None,\n",
    "                              post_epoch_fn=post_epoch_fn, early_stopping=early_stopping,\n",
    "                              checkpoints=checkpoint_file, print_every=1)\n",
    "        \n",
    "        fig, axes = plot_fit(fit_res)\n",
    "    except KeyboardInterrupt as e:\n",
    "        print('\\n *** Training interrupted by user')"
   ]
  },
  {
   "cell_type": "markdown",
   "metadata": {},
   "source": [
    "### Generating a work of art\n",
    "<a id=part1_8></a>"
   ]
  },
  {
   "cell_type": "markdown",
   "metadata": {},
   "source": [
    "Armed with our fully trained model, let's generate the next Hamlet! You should experiment with modifying the sampling temperature and see what happens.\n",
    "\n",
    "The text you generate should “look” like a Shakespeare play:\n",
    "old-style English words and sentence structure, directions for the actors\n",
    "(like “Exit/Enter”), sections (Act I/Scene III) etc.\n",
    "There will be no coherent plot of course, but it should at least seem like\n",
    "a Shakespearean play when not looking too closely.\n",
    "If this is not what you see, go back, debug and/or re-train.\n",
    "\n",
    "**TODO**: Specify the generation parameters in the `part1_generation_params()` function within the `hw3/answers.py` module."
   ]
  },
  {
   "cell_type": "code",
   "execution_count": 21,
   "metadata": {
    "execution": {
     "iopub.execute_input": "2021-12-27T17:24:42.892456Z",
     "iopub.status.busy": "2021-12-27T17:24:42.892456Z",
     "iopub.status.idle": "2021-12-27T17:24:51.845969Z",
     "shell.execute_reply": "2021-12-27T17:24:51.845969Z"
    },
    "tags": []
   },
   "outputs": [
    {
     "name": "stdout",
     "output_type": "stream",
     "text": [
      "Have laid biath', tell me;\n",
      "Aoa worthsopery.\n",
      "Come and Rarpoqu Lose digsock you thhis, it\n",
      "\n",
      "  sfenton to your ang,.\n",
      "  LECIDAND OOF softri I speakfrond, and wward to\n",
      "  BERTRPHESLLAnt to kiel Seed! I am mines;\n",
      "And I have been 'Sir jeanompt they have\n",
      "heeper figured and contk the watchance?\n",
      "Suppu led us from the our actnes before in so fets tot copeter\n",
      "Thair de'in surule is on affridge\n",
      "     \n",
      " e \n",
      "\n",
      "ACT:\n",
      "O, call exvert.\n",
      "To stand his\n",
      "    death.\n",
      "Wance, by desparcw.\n",
      "  ESCALUS. How for fter I, ay, lihiffs:\n",
      "I draw him.\n",
      "The proud heaot like a honour,\n",
      "How Thome kingous gracious babe, fea so to theM's unnotelvess:\n",
      "'This one, make thete foal to dulsoy.\n",
      "\n",
      "She is Koive of Carry, brist deserved\n",
      "    Peyits than seter in his dankancius of an aband;\n",
      "That!\n",
      "\n",
      "KING LADA:\n",
      "Faint you to strike his armouvour\n",
      "With alps and cold and briders?\n",
      "what marna she wander obeece forgigly\n",
      "Stalanchiencairs let with his greats of Names:\n",
      "One,ig the mere of anger,\n",
      "At thy ball tontinosepled'red this most Graces\n",
      "At one of Blood abad, head me with ounll call would make\n",
      "    mistring of he villain, O rebhen's possialers,\n",
      "And used of night, satorget him.\n",
      "  Je ship that be't tife your liness.\n",
      "  Ollog; Lepacited,\n",
      "To msedow my first merriingg?\n",
      "\n",
      "Lry.\n",
      "]\n",
      "whottful lie for theROBUCK. Sences me love too?\n",
      "\n",
      "Benwell all sfalal couttiry onshief srrild,\n",
      "Sto thang this then therefore,\n",
      "And purs a little talend or good host he can, ha that\n",
      "    to alive the fight's days.\n",
      "\n",
      "PORTIA: I\n",
      "   1\n",
      "For what please he hath flesh of honest:\n",
      "Away at one grohnwa from the each\n",
      "You go. Get me,\n",
      "Judd\n",
      "As I know this instance in is, ange first of full\n",
      "Will not fear to him of waaght o \n",
      "  ACPILIA. I wondent either somethy wele,\n",
      "This man shouldst the Tot of Norseas our and off\n",
      "    Adto friends thhysician a king well\n",
      "endtune,\n",
      "    My foul lobdy death poor time, and so their spew, and that  \n",
      "  Whorsten your hing.\n",
      "\n",
      "JOHN:\n",
      "Man on me your soul that spany gress;\n",
      "And every death,' knave th' town, 'tis not,\n",
      "Treaslance, corner,, then for here down.\n",
      "AGREKING, TISY:\n",
      "By their manaous, thatterges rive in\n",
      "Houndres hope keep up, the\n",
      "When wiwes tHENRIA. I will raves to match the prisoner\n",
      "    Toncuwings me, they hadak on wish' sound of my\n",
      "Hown ief:\n",
      "We'll do hell indeed. I die; my bose made youunt,\n",
      "Tome desorts to thy king.\n",
      "  AUTORY c this unass,\n",
      "the fashion fresh of one wigne not on true any thing of the oidlas,\n",
      "    Bear to near this letter we.\n",
      "\n",
      "LORD, and friends:\n",
      "Tully! ladiesd, with him!\n",
      "Batter, almen eire:\n",
      "For thh,\n",
      "No byund, fhasas ay the cause,\n",
      "And whe you most Tilraus,\n",
      "Fear for surfeit breath too streigth hell.\n",
      "\n",
      "SICINIUS:\n",
      "Lies the Postby Which angel\n",
      "He soy; the weard neck sir, thy for mushing,\n",
      "And what bage of them at wu now well wear time and ghoumate blood.\n",
      "Bid and side in Jucon.\n",
      "  HoBorrieus at us for my Inour Iides you merited eud;\n",
      "Prince! My!\n",
      "\n",
      "THE: I am,\n",
      "Indeed I were to so henceas,\n",
      "Hawholewifuly, as in my friends?\n",
      " ler no brains:\n",
      "My lady, sII\n",
      "Halt both on thine argamcious,\n",
      "As next out more s shonked, son, which they;\n",
      "Clome in me, 'ty.\n",
      "\n",
      "CHARVIZEN:\n",
      "'-manst advand that preutit there arperous enguising denes we are live of; of my thasting old sin prisesd so your watly within\n",
      "thee all their gured of\n",
      "\n",
      "he might semints than the poather,\n",
      "Of my Wise, Pent n,'.\n",
      "Me, and\n",
      "seefing I sayful surbling?\n",
      "\n",
      "Send: and KEEMETHUS: You won before defan we would palace\n",
      "\n",
      "'T impress ml; lehe her?\n",
      "\n",
      "BRROM astir forth.\n",
      "\n",
      "DORTIENA:\n",
      "'Ti no ebrofling with steldops right.\n",
      "This valious trusty monster.\n",
      " \n",
      "KINBALBUS:\n",
      "His trotHAUMIO? and JeSITS, CiRIZULIA:\n",
      "Why then.\n",
      "\n",
      "BIONDERLA. His death, denros, come\n",
      "To As they despereted too, affice every dean ear touche of my lord.\n",
      "How now they are ap wise to fair an affectter is but of ma?\n",
      "Their plutuch so shall water shape-Where's charish's obatbive:\n",
      "If thea or this, too wisits!\n",
      "Tell, which. Fare you too say.\n",
      "\n",
      "RATCLIOOS:\n",
      "No!\n",
      "\n",
      "Co'spark a mindness:\n",
      "Yed was Hyracioftens as beingst doth sudden me aid not that by the short lt in\n",
      "Trupryt that stresward as an uning, creature heart.\n",
      "\n",
      "MENS:\n",
      "Cou not so lamly?\n",
      "'Did u th from your propers\n",
      "And venty crull degrees for his challenge: thou thy swandands,\n",
      "And sucties of this o'y!\n",
      "\n",
      "RAVERNS Engly comfal the maids' tir secless to-king stay more with him tnlk\n",
      "And not Run:Hear, he seiv fir she,\n",
      "Which may never?\n",
      "\n",
      "BOYHERNE.\n",
      "\n",
      "st you, and this it common.\n",
      "\n",
      "LEOTTANT:\n",
      "Myly peace is ay byre, this of my sister;\n",
      "Whose topery  MARIA. If, ich with en John queen!\n",
      "\n",
      "COUCMERAND:\n",
      "And she shally 'parks, what swear'strly half,\n",
      "Thee! are ul against myself, come!\n",
      "\n",
      "Nor great Princes then have a world of my face to tabkte to-go:\n",
      "As my lovale, when sent the slect, have Ir my grace so,\n",
      "There's magic' and ill dead: Rul,\n",
      "\n",
      "Perase:\n",
      "This, bmp' near.\n",
      "  PAILELIA.\n",
      "Come,\n",
      "\n",
      "Calsingly beat me shal to me have the pero, which\n",
      "ttled death, who arments stay Bloy: on reguise, blood to he so.\n",
      "Well.\n",
      "  CRESCEIDA. My cut captaind unmupble parrest to give thee:\n",
      "Shave you sends.\n",
      "  CLORDO, is the theransous blind reverence thwar\n",
      "Is whither tanged that I both so thetell any and carny west honesty lord ane beats\n",
      "  To pade to?\n",
      "Tearing swest craubbition.\n",
      "\n",
      "COWILLY!      And indeedy lords to deifbuses on us stot an all\n",
      "Who\n",
      "How pasl all hopey;\n",
      "    The kiss'deshe  \n",
      "childlentalionirsd wleans raseldness: what presently theur:\n",
      "Gave thee descend tontul,\n",
      "They shall so which dustier and me hear our great\n",
      "  TITUS. Is and word, cround it\n",
      "Thy very friar: 'Now\n",
      "    his daughters for England, look,\n",
      "And I say; prmandered life on himself;,\n",
      "To blaer, or endertion us ky,\n",
      "Confirm the trittest that that hands Queen of\n",
      "  \n",
      "A Rather weinch a great noble lord and my heart,\n",
      "After their will rouse leave,\n",
      "   And all, but that trust els]\n",
      "\n",
      "HENRY LAUYIUS:\n",
      "Wat:\n",
      "Poison' to thee iur wrong:\n",
      "What sor of you?\n",
      "\n",
      "KING OF RICHARD.\n",
      "\n",
      "MENENIUS:\n",
      "Why's, who was is not fair\n",
      "The life so, poaulllytherS\n",
      "\n",
      "KING\n",
      "Ss, and there arncely and to hip hed sighrestge.\n",
      "\n",
      "KINY:\n",
      "Yous dainty, your cere,\n",
      "The more asr reule my soget, leadest played rumope besides, one to stand\n",
      "on quickly leave\n",
      "Thistending Herlash to yhevbrirement your hands is wittle\n",
      "Shall lwer treip soetter:\n",
      "And for the Kind and glory, thou shak thy side with religion is she bails, resth; thi the ministertenk of heaven,\n",
      "How half speed weich sworse do peer to God, worthy tobly comfort.\n",
      "\n",
      "Qio) and PAROLLES:\n",
      "Hark my Northullus, Hector;\n",
      "I tcome into slp,\n",
      "That's appherow, to wwoe knounds:\n",
      "At all this hell for wohed.\n",
      "\n",
      "RIChwicken.\n",
      "\n",
      "Enter LARNCH iam ofse his haors, thou umphlyou did know it\n",
      "\n",
      "THE:\n",
      "Teashe this tribune of red devifed the masters\n",
      "- \"Ts no jigus mustow.\n",
      "Whuty may thunder stays'.\n",
      "\n",
      "HENRY:\n",
      "His remember, Beds, and Licant,\n",
      "Whose read finst all there against repales; and my grhat heaud.\n",
      "Something pla Loven.\n",
      "\n",
      "TBUSELLA,-BANCY:\n",
      "Is both you carvest be duty! ha! bond indeed.\n",
      "\n",
      "BRUTUS:\n",
      "And Jive a Jebo have they cannot not being cause some a behals'd.\n",
      "\n",
      "Strong four LEEET: talgot, but\n",
      "The ming of Bell tom, in my ripe, foamer.\n",
      "  LROINE. Yen, go, of letter, the Thratators nought and us i,\n",
      "To myself bids follow; but ours of nefl ador may to,\n",
      "  W indestated his.\n",
      "  ALIEK:WHELINE:\n",
      "Propeet to Rome witch this heir.\n",
      "\n",
      "fier then would see themd the lord:\n",
      "Sir To, but!\n",
      "\n",
      "GLOUCESTER:\n",
      "Better I can now, side,\n",
      "    Nay, us and thyself, ettinllhe of some\n",
      "Confession, sir,\n",
      "crotketh thens-dead.\n",
      "\n",
      "LUCIANS:\n",
      "I, I\n",
      "  T this cause;\n",
      "these, would trure as a gry of teers of this: what hashribel,\n",
      "Here I have the Thimn Oe aneme to his death,\n",
      "    And even cerqueth with hi live to scap'd.\n",
      "\n",
      "TAYURIANA:\n",
      "'A irest edth, if it well for the daur was not his heat,\n",
      "To-direcle that too fignoing my reading? Do't.\n",
      "\n",
      "CorhoroGUWIDHOLMAN\n",
      "\n",
      ". God be? wcan my son's fap now s less,\n",
      "with solhys, our house or this\n",
      "A lady great names: Drinks from Jo here did teats of so and call?\n",
      "And let me lake theh\n",
      "Hast for this hess,\n",
      "And inywant parts, licks, inmifal,\n",
      "Of Hueper,!Buhed amings, report to thw shall be as I go with nature:\n",
      "What!yall of controll a moudy?\n",
      "ACHILLER, Leird York folllows,\n",
      "After\n",
      "  ROSe. Bring, my expected ab!-brind, sirrah!\n",
      "\n",
      "GROSCWISBUSON:\n",
      "Nevere them tpers; well say?\n",
      "\n",
      "PIDUCEES, a soul with to spoilable crown than our neck, but these\n",
      "waleal of vi not retire;\n",
      "The paint me:WALI::TAANO:\n",
      "Who's not lay me tell this humn?\n",
      "Thy pritheor!\n",
      "The thote Ucarlies, and jest senitaty?'d be\n",
      "  Llane\n",
      "Will be might berniver the reason of an orns' mosn,\n",
      "To villano nt.\n",
      "\n",
      "SICINIUS:\n",
      "Why has resplimy helplor I some late it, thou, bidkind, amaz I say sucHorn, that mov'd my egetters?\n",
      "They cAIDOR. Ay alls' whitef ONTIUS:\n",
      "Why shall where in that Tritvarteth a back\n",
      "Believeg the poll of thy sloves:\n",
      "Hath takess on lius advarger startly; pusk to brain now\n",
      "Commanddony after th  MARGARET. How is close by Dinnaw so mud.\n",
      "COMINIUS:, ROSILIO\n",
      "\n",
      "Camride:\n",
      "Forlary,treasl lay, hot in Roman at Lived!\n",
      "Sirrah; my armour, toskmal with love of fear to gligebits,\n",
      "Both firs heaven:\n",
      "Ries?IALI, men\n",
      "Will never's acwie;\n",
      "AtTeathlose of thIlrictorve'shall the Possise dimstance can entrest a stage,\n",
      "Yet it will mean the thrings do can on be.\n",
      "  CASNIUS.ss,\n",
      "Mindy breyfulrs, my old hand that was been on the wits up,\n",
      "Your everybgt,-And none, thence see\n",
      "  BLOTEN. He lies not gold in but, though your boots too,\n",
      "We liv now fear such d,\n",
      "Nakesbeal; Id must onal nertfr to one day.\n",
      "\n",
      "BRUTUS:\n",
      "Meats.\n",
      "\n",
      "PREWANDIENIUL:\n",
      "Unillish supplest and this floct lose of me,\n",
      "    To daughter knowanted into the put after whereon the dephats to the wind draw;\n",
      "    On captain all the door of the man loving\n",
      "Galling; before, my lord\n",
      "Of extill the stage, that when you have done in love;\n",
      "Second esleel: more galled sone, as worsely'd leave.\n",
      "\n",
      "SOWETRUS:\n",
      "I my plate swet; and,\n",
      "Thome in my boat, rots she blinster that thy days:\n",
      "Willly non with forreshi yet from Tagging,, so might partations in,\n",
      "Nothing let me suit this, nor knowlyy are no laml they dreive her\n",
      "    lIGLUCE. Hhis oneer, we shall long short of death\n",
      "Thanged mortal emby; make thee a smeri tiffly full Menenants.\n",
      "\n",
      "GAREMSTANL, hereworthagmant the hour votcle,\n",
      "Your office have we satord, will yet he is from them in a post with my squire.\n",
      "Which name she to\n",
      "his grap'd king hii seek'st on the awim\n",
      "That my pensother to mye.\n",
      "  Anfbruld these\n",
      "  France b\n"
     ]
    }
   ],
   "source": [
    "from hw3.answers import part1_generation_params\n",
    "\n",
    "start_seq, temperature = part1_generation_params()\n",
    "\n",
    "generated_sequence = charnn.generate_from_model(\n",
    "    model, start_seq, 10000, (char_to_idx,idx_to_char), T=temperature\n",
    ")\n",
    "\n",
    "print(generated_sequence)"
   ]
  },
  {
   "cell_type": "markdown",
   "metadata": {},
   "source": [
    "## Questions\n",
    "<a id=part1_9></a>"
   ]
  },
  {
   "cell_type": "markdown",
   "metadata": {},
   "source": [
    "**TODO** Answer the following questions. Write your answers in the appropriate variables in the module `hw3/answers.py`."
   ]
  },
  {
   "cell_type": "code",
   "execution_count": 22,
   "metadata": {
    "execution": {
     "iopub.execute_input": "2021-12-27T17:24:51.845969Z",
     "iopub.status.busy": "2021-12-27T17:24:51.845969Z",
     "iopub.status.idle": "2021-12-27T17:24:51.920391Z",
     "shell.execute_reply": "2021-12-27T17:24:51.920391Z"
    }
   },
   "outputs": [],
   "source": [
    "from cs3600.answers import display_answer\n",
    "import hw3.answers"
   ]
  },
  {
   "cell_type": "markdown",
   "metadata": {},
   "source": [
    "### Question 1\n",
    "Why do we split the corpus into sequences instead of training on the whole text?"
   ]
  },
  {
   "cell_type": "code",
   "execution_count": 23,
   "metadata": {
    "execution": {
     "iopub.execute_input": "2021-12-27T17:24:51.920391Z",
     "iopub.status.busy": "2021-12-27T17:24:51.920391Z",
     "iopub.status.idle": "2021-12-27T17:24:51.982877Z",
     "shell.execute_reply": "2021-12-27T17:24:51.982877Z"
    }
   },
   "outputs": [
    {
     "data": {
      "text/markdown": [
       "\n",
       "We split the corpus into sequences instead of training on the whole text because:<br>\n",
       "a. The learning process is more generalized this way, and prevents overfitting \n",
       "and can improve the robustness of model when available training data is limited.<br>\n",
       "b. It might be too large to fit in memory and result in very long training times \n",
       "(see https://arxiv.org/ftp/arxiv/papers/1708/1708.05604.pdf).<br>\n",
       "&emsp; More troubling, attempting to back-propagate across very long input sequences may result in vanishing gradients, \n",
       "and in turn, an un-learnable model.\n"
      ],
      "text/plain": [
       "<IPython.core.display.Markdown object>"
      ]
     },
     "metadata": {},
     "output_type": "display_data"
    }
   ],
   "source": [
    "display_answer(hw3.answers.part1_q1)"
   ]
  },
  {
   "cell_type": "markdown",
   "metadata": {},
   "source": [
    "### Question 2\n",
    "How is it possible that the generated text clearly shows memory longer than the sequence length?"
   ]
  },
  {
   "cell_type": "code",
   "execution_count": 24,
   "metadata": {
    "execution": {
     "iopub.execute_input": "2021-12-27T17:24:51.982877Z",
     "iopub.status.busy": "2021-12-27T17:24:51.982877Z",
     "iopub.status.idle": "2021-12-27T17:24:52.045362Z",
     "shell.execute_reply": "2021-12-27T17:24:52.045362Z"
    }
   },
   "outputs": [
    {
     "data": {
      "text/markdown": [
       "\n",
       "The generated text shows memory longer than the sequence length because of the hidden states ,H \n",
       "(\"This can be thought of as the memory of that layer\").<br>\n",
       "These pass previous knowledge and therefore have more memory in each layer.\n"
      ],
      "text/plain": [
       "<IPython.core.display.Markdown object>"
      ]
     },
     "metadata": {},
     "output_type": "display_data"
    }
   ],
   "source": [
    "display_answer(hw3.answers.part1_q2)"
   ]
  },
  {
   "cell_type": "markdown",
   "metadata": {},
   "source": [
    "### Question 3\n",
    "Why are we not shuffling the order of batches when training?"
   ]
  },
  {
   "cell_type": "code",
   "execution_count": 25,
   "metadata": {
    "execution": {
     "iopub.execute_input": "2021-12-27T17:24:52.045362Z",
     "iopub.status.busy": "2021-12-27T17:24:52.045362Z",
     "iopub.status.idle": "2021-12-27T17:24:52.092226Z",
     "shell.execute_reply": "2021-12-27T17:24:52.092226Z"
    }
   },
   "outputs": [
    {
     "data": {
      "text/markdown": [
       "\n",
       "We are NOT shuffling the order of batches when training because each batch rely on its previous batch's hidden state \n",
       "(the \"memory\").<br>\n",
       "Naturally, the continuity of text is important for context and logic, and if we shuffle words we can understand the text \n",
       "differently (or not understand at all)...<br>\n",
       "Here, \"understanding\" means generating similar texts, so we learn the text as it is, otherwise the resulted text will \n",
       "be irrelevant.\n"
      ],
      "text/plain": [
       "<IPython.core.display.Markdown object>"
      ]
     },
     "metadata": {},
     "output_type": "display_data"
    }
   ],
   "source": [
    "display_answer(hw3.answers.part1_q3)"
   ]
  },
  {
   "cell_type": "markdown",
   "metadata": {},
   "source": [
    "### Question 4\n",
    "1. Why do we lower the temperature for sampling (compared to the default of $1.0$)?\n",
    "2. What happens when the temperature is very high and why?\n",
    "3. What happens when the temperature is very low and why?"
   ]
  },
  {
   "cell_type": "code",
   "execution_count": 26,
   "metadata": {
    "execution": {
     "iopub.execute_input": "2021-12-27T17:24:52.092226Z",
     "iopub.status.busy": "2021-12-27T17:24:52.092226Z",
     "iopub.status.idle": "2021-12-27T17:24:52.139090Z",
     "shell.execute_reply": "2021-12-27T17:24:52.139090Z"
    },
    "tags": []
   },
   "outputs": [
    {
     "data": {
      "text/markdown": [
       "\n",
       "1. When sampling, we would prefer to control the distributions and make them less uniform to increase the chance of \n",
       "sampling the char(s) with the <u>highest scores</u> compared to the others.<br>\n",
       "Low temperature results in less uniform distributions and more structured sampling (which we want).<br>\n",
       "<br>\n",
       "2. When the temperature is very high the probabilities are more uniform and the model will therefore choose random \n",
       "chars for each word, and the generated text might have no meaning...<br>\n",
       "<br>\n",
       "3. When the temperature is very low the probabilities are not uniform at all and the model will therefore always choose \n",
       "the chars that are more common (more \"safe\" to choose) from training.<br>\n",
       "This result in less generalized generated text and thus less errors but more similar outputs all the time."
      ],
      "text/plain": [
       "<IPython.core.display.Markdown object>"
      ]
     },
     "metadata": {},
     "output_type": "display_data"
    }
   ],
   "source": [
    "display_answer(hw3.answers.part1_q4)"
   ]
  }
 ],
 "metadata": {
  "kernelspec": {
   "display_name": "Python 3 (ipykernel)",
   "language": "python",
   "name": "python3"
  },
  "language_info": {
   "codemirror_mode": {
    "name": "ipython",
    "version": 3
   },
   "file_extension": ".py",
   "mimetype": "text/x-python",
   "name": "python",
   "nbconvert_exporter": "python",
   "pygments_lexer": "ipython3",
   "version": "3.8.6"
  }
 },
 "nbformat": 4,
 "nbformat_minor": 4
}
